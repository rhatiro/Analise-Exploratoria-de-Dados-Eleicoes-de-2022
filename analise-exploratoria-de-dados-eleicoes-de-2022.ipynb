{
 "cells": [
  {
   "cell_type": "markdown",
   "id": "6dfaa6d5",
   "metadata": {
    "id": "KJqp9AANOCtf",
    "papermill": {
     "duration": 0.022487,
     "end_time": "2022-12-17T01:50:03.781906",
     "exception": false,
     "start_time": "2022-12-17T01:50:03.759419",
     "status": "completed"
    },
    "tags": []
   },
   "source": [
    "<img src=\"https://raw.githubusercontent.com/andre-marcos-perez/ebac-course-utils/main/media/logo/newebac_logo_black_half.png\" alt=\"ebac-logo\">\n",
    "\n",
    "---\n",
    "\n",
    "# **Aula** | Análise Exploratória de Dados com Python: Eleições de 2022\n",
    "Professor [André Perez](https://www.linkedin.com/in/andremarcosperez/)<br>\n",
    "01/12/2022\n",
    "\n",
    "---"
   ]
  },
  {
   "cell_type": "markdown",
   "id": "3c6df939",
   "metadata": {
    "id": "d9jDtUbDOE1-",
    "papermill": {
     "duration": 0.015753,
     "end_time": "2022-12-17T01:50:03.815688",
     "exception": false,
     "start_time": "2022-12-17T01:50:03.799935",
     "status": "completed"
    },
    "tags": []
   },
   "source": [
    "# **Tópicos**\n",
    "\n",
    "<ol type=\"1\">\n",
    "  <li>Introdução;</li>\n",
    "  <li>Exploração;</li>\n",
    "  <li>Processamento;</li>\n",
    "  <li>Visualização;</li>\n",
    "  <li>Divulgação.</li>\n",
    "</ol>"
   ]
  },
  {
   "cell_type": "markdown",
   "id": "f30de357",
   "metadata": {
    "id": "SmoHgt-lwkpD",
    "papermill": {
     "duration": 0.015613,
     "end_time": "2022-12-17T01:50:03.847203",
     "exception": false,
     "start_time": "2022-12-17T01:50:03.831590",
     "status": "completed"
    },
    "tags": []
   },
   "source": [
    "---"
   ]
  },
  {
   "cell_type": "markdown",
   "id": "224d8c06",
   "metadata": {
    "id": "GABI6OW8OfQ2",
    "papermill": {
     "duration": 0.015681,
     "end_time": "2022-12-17T01:50:03.879558",
     "exception": false,
     "start_time": "2022-12-17T01:50:03.863877",
     "status": "completed"
    },
    "tags": []
   },
   "source": [
    "# **Aulas**"
   ]
  },
  {
   "cell_type": "markdown",
   "id": "a36efa40",
   "metadata": {
    "id": "-Rig-cljwJdi",
    "papermill": {
     "duration": 0.015933,
     "end_time": "2022-12-17T01:50:03.911952",
     "exception": false,
     "start_time": "2022-12-17T01:50:03.896019",
     "status": "completed"
    },
    "tags": []
   },
   "source": [
    "## 1\\. Introdução"
   ]
  },
  {
   "cell_type": "markdown",
   "id": "f1637559",
   "metadata": {
    "id": "lNGqwyhiE1vq",
    "papermill": {
     "duration": 0.015881,
     "end_time": "2022-12-17T01:50:03.944156",
     "exception": false,
     "start_time": "2022-12-17T01:50:03.928275",
     "status": "completed"
    },
    "tags": []
   },
   "source": [
    "Nesta aula, vamos entender o contexto de negócio que estamos inseridos e aprender a utilizar o Google Colab."
   ]
  },
  {
   "cell_type": "markdown",
   "id": "ad551c97",
   "metadata": {
    "id": "Ay4UkojwGskg",
    "papermill": {
     "duration": 0.015636,
     "end_time": "2022-12-17T01:50:03.976002",
     "exception": false,
     "start_time": "2022-12-17T01:50:03.960366",
     "status": "completed"
    },
    "tags": []
   },
   "source": [
    "### **1.1. Contexto** "
   ]
  },
  {
   "cell_type": "markdown",
   "id": "7b0a7e4b",
   "metadata": {
    "id": "JUonSt7kxZyj",
    "papermill": {
     "duration": 0.016161,
     "end_time": "2022-12-17T01:50:04.008243",
     "exception": false,
     "start_time": "2022-12-17T01:50:03.992082",
     "status": "completed"
    },
    "tags": []
   },
   "source": [
    "O tribunal superior eleitoral (TSE) disponibilizou os dados brutos das urnas de votação utilizadas durante o processo eleitoral de 2022. No site do TSE ([link](https://resultados.tse.jus.br/oficial/app/index.html#/eleicao/resultados)) encontra-se os seguintes dados para cada urna:"
   ]
  },
  {
   "cell_type": "markdown",
   "id": "76db37f3",
   "metadata": {
    "id": "M5K99BBs9C1Q",
    "papermill": {
     "duration": 0.015387,
     "end_time": "2022-12-17T01:50:04.040772",
     "exception": false,
     "start_time": "2022-12-17T01:50:04.025385",
     "status": "completed"
    },
    "tags": []
   },
   "source": [
    " - **Registro Digital do Voto (RDV)**: Registro unitário dos votos;\n",
    " - **Boletim de Urna**: Resultados agregados;\n",
    " - **Log de Urna**: Todos os eventos que ocorreram na urna."
   ]
  },
  {
   "cell_type": "markdown",
   "id": "736ae043",
   "metadata": {
    "id": "KIzpIja__Xob",
    "papermill": {
     "duration": 0.015443,
     "end_time": "2022-12-17T01:50:04.071962",
     "exception": false,
     "start_time": "2022-12-17T01:50:04.056519",
     "status": "completed"
    },
    "tags": []
   },
   "source": [
    "A documentação técnica para o processamento dos arquivo também se encontra no website do TSE ([link](https://www.tse.jus.br/eleicoes/eleicoes-2022/documentacao-tecnica-do-software-da-urna-eletronica))."
   ]
  },
  {
   "cell_type": "markdown",
   "id": "b54fa4a0",
   "metadata": {
    "id": "19a6O3YOhlmq",
    "papermill": {
     "duration": 0.01529,
     "end_time": "2022-12-17T01:50:04.103188",
     "exception": false,
     "start_time": "2022-12-17T01:50:04.087898",
     "status": "completed"
    },
    "tags": []
   },
   "source": [
    "> Para uma única urna (estado, cidade, zona e seção), vamos utilizar o **Python** para processar o seu arquivo **RDV** e replicar os valores agregados do seu **Boletim de Urna** para o segundo turno de votação para presidente do processo eleitoral de 2022."
   ]
  },
  {
   "cell_type": "markdown",
   "id": "9a0a7dfd",
   "metadata": {
    "id": "muD1vxozykSC",
    "papermill": {
     "duration": 0.015906,
     "end_time": "2022-12-17T01:50:04.134839",
     "exception": false,
     "start_time": "2022-12-17T01:50:04.118933",
     "status": "completed"
    },
    "tags": []
   },
   "source": [
    "### **1.2. Google Colab**"
   ]
  },
  {
   "cell_type": "markdown",
   "id": "253b8f2a",
   "metadata": {
    "id": "xT1ohV3t0FQJ",
    "papermill": {
     "duration": 0.016068,
     "end_time": "2022-12-17T01:50:04.167427",
     "exception": false,
     "start_time": "2022-12-17T01:50:04.151359",
     "status": "completed"
    },
    "tags": []
   },
   "source": [
    "> Ferramenta web autogerênciada de cadernos (*notebooks*)."
   ]
  },
  {
   "cell_type": "markdown",
   "id": "8da06c39",
   "metadata": {
    "id": "5a3_syBIP6yO",
    "papermill": {
     "duration": 0.01676,
     "end_time": "2022-12-17T01:50:04.199860",
     "exception": false,
     "start_time": "2022-12-17T01:50:04.183100",
     "status": "completed"
    },
    "tags": []
   },
   "source": [
    "**Ferramenta web**"
   ]
  },
  {
   "cell_type": "markdown",
   "id": "d591bdf0",
   "metadata": {
    "id": "xF1tFQyRQag2",
    "papermill": {
     "duration": 0.015666,
     "end_time": "2022-12-17T01:50:04.231930",
     "exception": false,
     "start_time": "2022-12-17T01:50:04.216264",
     "status": "completed"
    },
    "tags": []
   },
   "source": [
    "\n",
    "\n",
    "*   Crie uma conta Google em [gmail.com](https://gmail.com);\n",
    "*   Acesse o Google Colab através do endereço [colab.research.google.com](https://colab.research.google.com/).\n",
    "\n",
    "\n"
   ]
  },
  {
   "cell_type": "markdown",
   "id": "762bd2cb",
   "metadata": {
    "id": "VkIgtLmhQRDV",
    "papermill": {
     "duration": 0.017672,
     "end_time": "2022-12-17T01:50:04.266753",
     "exception": false,
     "start_time": "2022-12-17T01:50:04.249081",
     "status": "completed"
    },
    "tags": []
   },
   "source": [
    "**Autogerênciada** "
   ]
  },
  {
   "cell_type": "markdown",
   "id": "a1496c10",
   "metadata": {
    "id": "P14BSbuH0SQB",
    "papermill": {
     "duration": 0.015785,
     "end_time": "2022-12-17T01:50:04.299590",
     "exception": false,
     "start_time": "2022-12-17T01:50:04.283805",
     "status": "completed"
    },
    "tags": []
   },
   "source": [
    "\n",
    "\n",
    "*   A Google provisiona uma máquina virtual para você;\n",
    "*   A máquina virtual dura no máximo 12h.\n",
    "\n"
   ]
  },
  {
   "cell_type": "markdown",
   "id": "9f9acd80",
   "metadata": {
    "id": "mIgaH380QG2e",
    "papermill": {
     "duration": 0.016751,
     "end_time": "2022-12-17T01:50:04.332409",
     "exception": false,
     "start_time": "2022-12-17T01:50:04.315658",
     "status": "completed"
    },
    "tags": []
   },
   "source": [
    "**Cadernos (*notebooks*)** "
   ]
  },
  {
   "cell_type": "markdown",
   "id": "16345966",
   "metadata": {
    "id": "_4Q4H0RKm-4G",
    "papermill": {
     "duration": 0.017448,
     "end_time": "2022-12-17T01:50:04.368972",
     "exception": false,
     "start_time": "2022-12-17T01:50:04.351524",
     "status": "completed"
    },
    "tags": []
   },
   "source": [
    "Um **caderno** é um documento *web* composto por um conjunto de elementos (células) de texto e código:\n",
    "\n",
    "\n",
    "*   Células de **texto** podem ser editados com o editor da ferramenta, HTML ou Markdown; \n",
    "*   Células de **código** são exclusivamente para a linguagem de programação Python.\n",
    "\n"
   ]
  },
  {
   "cell_type": "code",
   "execution_count": 1,
   "id": "844fd50b",
   "metadata": {
    "execution": {
     "iopub.execute_input": "2022-12-17T01:50:04.407363Z",
     "iopub.status.busy": "2022-12-17T01:50:04.406206Z",
     "iopub.status.idle": "2022-12-17T01:50:04.421190Z",
     "shell.execute_reply": "2022-12-17T01:50:04.419814Z"
    },
    "id": "ILZGen4Ob_vC",
    "outputId": "c7fdcb3d-0aee-4bc8-b060-0866ffead521",
    "papermill": {
     "duration": 0.037236,
     "end_time": "2022-12-17T01:50:04.424429",
     "exception": false,
     "start_time": "2022-12-17T01:50:04.387193",
     "status": "completed"
    },
    "tags": []
   },
   "outputs": [
    {
     "name": "stdout",
     "output_type": "stream",
     "text": [
      "olá, mundo!\n"
     ]
    }
   ],
   "source": [
    "print(\"olá, mundo!\")"
   ]
  },
  {
   "cell_type": "markdown",
   "id": "75a4c731",
   "metadata": {
    "id": "EvJTE2FpaGeU",
    "papermill": {
     "duration": 0.016757,
     "end_time": "2022-12-17T01:50:04.457836",
     "exception": false,
     "start_time": "2022-12-17T01:50:04.441079",
     "status": "completed"
    },
    "tags": []
   },
   "source": [
    "## 2\\. Exploração"
   ]
  },
  {
   "cell_type": "markdown",
   "id": "da5ec04b",
   "metadata": {
    "id": "ISYXZbomlb1x",
    "papermill": {
     "duration": 0.018446,
     "end_time": "2022-12-17T01:50:04.493046",
     "exception": false,
     "start_time": "2022-12-17T01:50:04.474600",
     "status": "completed"
    },
    "tags": []
   },
   "source": [
    "Nesta aula vamos explorar, limpar e extrair os votos do arquivo RDV."
   ]
  },
  {
   "cell_type": "markdown",
   "id": "719059cc",
   "metadata": {
    "id": "DDpx-CqDoEMB",
    "papermill": {
     "duration": 0.01635,
     "end_time": "2022-12-17T01:50:04.526945",
     "exception": false,
     "start_time": "2022-12-17T01:50:04.510595",
     "status": "completed"
    },
    "tags": []
   },
   "source": [
    "### **2.1. Upload** "
   ]
  },
  {
   "cell_type": "markdown",
   "id": "d7f9efb1",
   "metadata": {
    "id": "aY9hV7LkoEQv",
    "papermill": {
     "duration": 0.016291,
     "end_time": "2022-12-17T01:50:04.559868",
     "exception": false,
     "start_time": "2022-12-17T01:50:04.543577",
     "status": "completed"
    },
    "tags": []
   },
   "source": [
    "No site de resultados do TSE ([link](https://resultados.tse.jus.br/oficial/app/index.html)), selecione os dados de uma única urna, faça o *download* do arquivo RDV e então, o seu *upload* no ambiente do Google Colab. "
   ]
  },
  {
   "cell_type": "markdown",
   "id": "412c1760",
   "metadata": {
    "id": "8lvsCpnSoR0k",
    "papermill": {
     "duration": 0.016053,
     "end_time": "2022-12-17T01:50:04.592274",
     "exception": false,
     "start_time": "2022-12-17T01:50:04.576221",
     "status": "completed"
    },
    "tags": []
   },
   "source": [
    "### **2.2. Descriptografia** "
   ]
  },
  {
   "cell_type": "markdown",
   "id": "ec89743d",
   "metadata": {
    "id": "ue3LBOvcap6Z",
    "papermill": {
     "duration": 0.016178,
     "end_time": "2022-12-17T01:50:04.624455",
     "exception": false,
     "start_time": "2022-12-17T01:50:04.608277",
     "status": "completed"
    },
    "tags": []
   },
   "source": [
    "Vamos utilizar o código disponibilizado pelo próprio TSE ([link](https://www.tse.jus.br/eleicoes/eleicoes-2022/documentacao-tecnica-do-software-da-urna-eletronica)) para descriptografar o arquivo RDV em um arquivo de texto. O código foi replicado neste [link](https://raw.githubusercontent.com/andre-marcos-perez/ebac-course-utils/develop/notebooks/2022_11_29/rdv.py) para facilitar a sua integração com o Google Colab."
   ]
  },
  {
   "cell_type": "markdown",
   "id": "784475a9",
   "metadata": {
    "id": "Y2XahMe2BMQM",
    "papermill": {
     "duration": 0.01584,
     "end_time": "2022-12-17T01:50:04.656619",
     "exception": false,
     "start_time": "2022-12-17T01:50:04.640779",
     "status": "completed"
    },
    "tags": []
   },
   "source": [
    " - Faça o *download* do código de descriptografia."
   ]
  },
  {
   "cell_type": "code",
   "execution_count": 2,
   "id": "76c1a2e4",
   "metadata": {
    "execution": {
     "iopub.execute_input": "2022-12-17T01:50:04.693532Z",
     "iopub.status.busy": "2022-12-17T01:50:04.693059Z",
     "iopub.status.idle": "2022-12-17T01:50:06.241024Z",
     "shell.execute_reply": "2022-12-17T01:50:06.239523Z"
    },
    "id": "bamgYxoFYPjM",
    "papermill": {
     "duration": 1.571444,
     "end_time": "2022-12-17T01:50:06.244078",
     "exception": false,
     "start_time": "2022-12-17T01:50:04.672634",
     "status": "completed"
    },
    "tags": []
   },
   "outputs": [],
   "source": [
    "!curl -s https://raw.githubusercontent.com/andre-marcos-perez/ebac-course-utils/develop/notebooks/2022_11_29/rdv.py -o rdv.py"
   ]
  },
  {
   "cell_type": "markdown",
   "id": "ef68b800",
   "metadata": {
    "id": "UPbccDxhBXMo",
    "papermill": {
     "duration": 0.016621,
     "end_time": "2022-12-17T01:50:06.277505",
     "exception": false,
     "start_time": "2022-12-17T01:50:06.260884",
     "status": "completed"
    },
    "tags": []
   },
   "source": [
    " - Instale o pacote de criptografia utilizado pelo código."
   ]
  },
  {
   "cell_type": "code",
   "execution_count": 3,
   "id": "5e5b1852",
   "metadata": {
    "execution": {
     "iopub.execute_input": "2022-12-17T01:50:06.313184Z",
     "iopub.status.busy": "2022-12-17T01:50:06.312235Z",
     "iopub.status.idle": "2022-12-17T01:50:19.849468Z",
     "shell.execute_reply": "2022-12-17T01:50:19.848210Z"
    },
    "id": "EQew9bbvZ4L2",
    "outputId": "2c24cf2b-d62d-4d23-cd42-d6823a05c523",
    "papermill": {
     "duration": 13.558723,
     "end_time": "2022-12-17T01:50:19.852438",
     "exception": false,
     "start_time": "2022-12-17T01:50:06.293715",
     "status": "completed"
    },
    "tags": []
   },
   "outputs": [
    {
     "name": "stdout",
     "output_type": "stream",
     "text": [
      "Requirement already satisfied: asn1crypto==1.5.1 in /opt/conda/lib/python3.7/site-packages (1.5.1)\r\n",
      "\u001b[33mWARNING: Running pip as the 'root' user can result in broken permissions and conflicting behaviour with the system package manager. It is recommended to use a virtual environment instead: https://pip.pypa.io/warnings/venv\u001b[0m\u001b[33m\r\n",
      "\u001b[0m"
     ]
    }
   ],
   "source": [
    "!pip install asn1crypto==1.5.1"
   ]
  },
  {
   "cell_type": "markdown",
   "id": "8b82467c",
   "metadata": {
    "id": "DgdhKNTsA9dc",
    "papermill": {
     "duration": 0.01592,
     "end_time": "2022-12-17T01:50:19.884784",
     "exception": false,
     "start_time": "2022-12-17T01:50:19.868864",
     "status": "completed"
    },
    "tags": []
   },
   "source": [
    " - Substitua o texto `<NOME-DO-ARQUIVO-RDV>` pelo nome do arquivo RDV escolhido."
   ]
  },
  {
   "cell_type": "code",
   "execution_count": 4,
   "id": "8a830a41",
   "metadata": {
    "execution": {
     "iopub.execute_input": "2022-12-17T01:50:19.919589Z",
     "iopub.status.busy": "2022-12-17T01:50:19.919114Z",
     "iopub.status.idle": "2022-12-17T01:50:21.204795Z",
     "shell.execute_reply": "2022-12-17T01:50:21.203309Z"
    },
    "id": "xHTxWEvyNd0y",
    "outputId": "a7b1524c-1159-4a0a-9241-8778b0c93c79",
    "papermill": {
     "duration": 1.306239,
     "end_time": "2022-12-17T01:50:21.207515",
     "exception": false,
     "start_time": "2022-12-17T01:50:19.901276",
     "status": "completed"
    },
    "tags": []
   },
   "outputs": [],
   "source": [
    "!python rdv.py -r /kaggle/input/rdv-tse-segundoturno2022-saopaulo-sp-328-758/o00407-7107203280758.rdv > rdv.txt"
   ]
  },
  {
   "cell_type": "markdown",
   "id": "8a6c6d21",
   "metadata": {
    "id": "5OFA-fmBohlJ",
    "papermill": {
     "duration": 0.016708,
     "end_time": "2022-12-17T01:50:21.241255",
     "exception": false,
     "start_time": "2022-12-17T01:50:21.224547",
     "status": "completed"
    },
    "tags": []
   },
   "source": [
    "### **2.3. Limpeza** "
   ]
  },
  {
   "cell_type": "markdown",
   "id": "1aa4b8cd",
   "metadata": {
    "id": "d4zw67ZOc-Cm",
    "papermill": {
     "duration": 0.016171,
     "end_time": "2022-12-17T01:50:21.273837",
     "exception": false,
     "start_time": "2022-12-17T01:50:21.257666",
     "status": "completed"
    },
    "tags": []
   },
   "source": [
    "Na etapa de limpeza, vamos selecionar apenas as linhas do arquivo RDV referentes a votação para presidente."
   ]
  },
  {
   "cell_type": "code",
   "execution_count": 5,
   "id": "9785abca",
   "metadata": {
    "execution": {
     "iopub.execute_input": "2022-12-17T01:50:21.309408Z",
     "iopub.status.busy": "2022-12-17T01:50:21.308947Z",
     "iopub.status.idle": "2022-12-17T01:50:21.316654Z",
     "shell.execute_reply": "2022-12-17T01:50:21.315289Z"
    },
    "id": "TrBosvhCc-0W",
    "papermill": {
     "duration": 0.028274,
     "end_time": "2022-12-17T01:50:21.319179",
     "exception": false,
     "start_time": "2022-12-17T01:50:21.290905",
     "status": "completed"
    },
    "tags": []
   },
   "outputs": [],
   "source": [
    "content = []\n",
    "\n",
    "with open(file=\"rdv.txt\", mode=\"r\") as fp:\n",
    "  for line in fp.readlines():\n",
    "    if \"Governador\" in line:\n",
    "      break\n",
    "    else:\n",
    "      content.append(line) "
   ]
  },
  {
   "cell_type": "code",
   "execution_count": 6,
   "id": "db7e21ba",
   "metadata": {
    "execution": {
     "iopub.execute_input": "2022-12-17T01:50:21.354406Z",
     "iopub.status.busy": "2022-12-17T01:50:21.353903Z",
     "iopub.status.idle": "2022-12-17T01:50:21.364545Z",
     "shell.execute_reply": "2022-12-17T01:50:21.363131Z"
    },
    "id": "HDTFc1M5grsT",
    "outputId": "f9fdf85e-2dd6-41c0-ad57-ac1176d00db0",
    "papermill": {
     "duration": 0.030884,
     "end_time": "2022-12-17T01:50:21.367027",
     "exception": false,
     "start_time": "2022-12-17T01:50:21.336143",
     "status": "completed"
    },
    "tags": []
   },
   "outputs": [
    {
     "data": {
      "text/plain": [
       "322"
      ]
     },
     "execution_count": 6,
     "metadata": {},
     "output_type": "execute_result"
    }
   ],
   "source": [
    "len(content)"
   ]
  },
  {
   "cell_type": "code",
   "execution_count": 7,
   "id": "6e11b091",
   "metadata": {
    "execution": {
     "iopub.execute_input": "2022-12-17T01:50:21.402082Z",
     "iopub.status.busy": "2022-12-17T01:50:21.401604Z",
     "iopub.status.idle": "2022-12-17T01:50:21.408132Z",
     "shell.execute_reply": "2022-12-17T01:50:21.406606Z"
    },
    "id": "r0NNW-xhgjZ0",
    "outputId": "8eb2b32e-4299-4fe5-c8af-f75b47ad339e",
    "papermill": {
     "duration": 0.027051,
     "end_time": "2022-12-17T01:50:21.410750",
     "exception": false,
     "start_time": "2022-12-17T01:50:21.383699",
     "status": "completed"
    },
    "tags": []
   },
   "outputs": [
    {
     "name": "stdout",
     "output_type": "stream",
     "text": [
      "========================================\n",
      "\n",
      "----------------------------------------\n",
      "\n",
      "Presidente\n",
      "\n",
      "  1 - nominal  - [13]\n",
      "\n",
      "  2 - nominal  - [13]\n",
      "\n",
      "  3 - nominal  - [13]\n",
      "\n",
      "  4 - nominal  - [13]\n",
      "\n",
      "  5 - nominal  - [13]\n",
      "\n",
      "  6 - nominal  - [13]\n",
      "\n",
      "  7 - nominal  - [13]\n",
      "\n"
     ]
    }
   ],
   "source": [
    "for line in content[0:10]:\n",
    "  print(line)"
   ]
  },
  {
   "cell_type": "markdown",
   "id": "83a8840e",
   "metadata": {
    "id": "042WnMxQotAX",
    "papermill": {
     "duration": 0.016053,
     "end_time": "2022-12-17T01:50:21.443100",
     "exception": false,
     "start_time": "2022-12-17T01:50:21.427047",
     "status": "completed"
    },
    "tags": []
   },
   "source": [
    "### **2.4. Extração** "
   ]
  },
  {
   "cell_type": "markdown",
   "id": "3711d898",
   "metadata": {
    "id": "2QpIbXo6gkMY",
    "papermill": {
     "duration": 0.016085,
     "end_time": "2022-12-17T01:50:21.475544",
     "exception": false,
     "start_time": "2022-12-17T01:50:21.459459",
     "status": "completed"
    },
    "tags": []
   },
   "source": [
    "Na etapa de extração, vamos extrair apenas os dados de votação."
   ]
  },
  {
   "cell_type": "code",
   "execution_count": 8,
   "id": "05c03143",
   "metadata": {
    "execution": {
     "iopub.execute_input": "2022-12-17T01:50:21.511273Z",
     "iopub.status.busy": "2022-12-17T01:50:21.510023Z",
     "iopub.status.idle": "2022-12-17T01:50:21.515170Z",
     "shell.execute_reply": "2022-12-17T01:50:21.514308Z"
    },
    "id": "OO99O3ubgh4J",
    "papermill": {
     "duration": 0.025899,
     "end_time": "2022-12-17T01:50:21.517729",
     "exception": false,
     "start_time": "2022-12-17T01:50:21.491830",
     "status": "completed"
    },
    "tags": []
   },
   "outputs": [],
   "source": [
    "import re"
   ]
  },
  {
   "cell_type": "code",
   "execution_count": 9,
   "id": "b356dac2",
   "metadata": {
    "execution": {
     "iopub.execute_input": "2022-12-17T01:50:21.553755Z",
     "iopub.status.busy": "2022-12-17T01:50:21.553235Z",
     "iopub.status.idle": "2022-12-17T01:50:21.558437Z",
     "shell.execute_reply": "2022-12-17T01:50:21.557531Z"
    },
    "id": "jpUIsVTkg5U1",
    "papermill": {
     "duration": 0.025469,
     "end_time": "2022-12-17T01:50:21.560521",
     "exception": false,
     "start_time": "2022-12-17T01:50:21.535052",
     "status": "completed"
    },
    "tags": []
   },
   "outputs": [],
   "source": [
    "pattern = re.compile(pattern=\"\\[(.*?)\\]\")"
   ]
  },
  {
   "cell_type": "code",
   "execution_count": 10,
   "id": "7016f7cf",
   "metadata": {
    "execution": {
     "iopub.execute_input": "2022-12-17T01:50:21.597972Z",
     "iopub.status.busy": "2022-12-17T01:50:21.597056Z",
     "iopub.status.idle": "2022-12-17T01:50:21.612400Z",
     "shell.execute_reply": "2022-12-17T01:50:21.610838Z"
    },
    "id": "3yLyf43df-x1",
    "papermill": {
     "duration": 0.03708,
     "end_time": "2022-12-17T01:50:21.615555",
     "exception": false,
     "start_time": "2022-12-17T01:50:21.578475",
     "status": "completed"
    },
    "tags": []
   },
   "outputs": [],
   "source": [
    "votes = []\n",
    "\n",
    "for line in content:\n",
    "\n",
    "  if \"branco\" in line:\n",
    "\n",
    "    votes.append({\"voto\": \"branco\", \"quantidade\": 1})\n",
    "\n",
    "  if \"nulo\" in line:\n",
    "\n",
    "    votes.append({\"voto\": \"nulo\", \"quantidade\": 1})\n",
    "\n",
    "  if \"nominal\" in line:\n",
    "\n",
    "    vote = re.findall(pattern=pattern, string=line)[0]\n",
    "    votes.append({\"voto\": f\"{vote}\", \"quantidade\": 1})"
   ]
  },
  {
   "cell_type": "code",
   "execution_count": 11,
   "id": "01769b6a",
   "metadata": {
    "execution": {
     "iopub.execute_input": "2022-12-17T01:50:21.652224Z",
     "iopub.status.busy": "2022-12-17T01:50:21.651054Z",
     "iopub.status.idle": "2022-12-17T01:50:21.657561Z",
     "shell.execute_reply": "2022-12-17T01:50:21.656605Z"
    },
    "id": "XjXerw1QhhfK",
    "outputId": "9d9dd0d9-7bc7-415d-8780-a9da56d81251",
    "papermill": {
     "duration": 0.027427,
     "end_time": "2022-12-17T01:50:21.659978",
     "exception": false,
     "start_time": "2022-12-17T01:50:21.632551",
     "status": "completed"
    },
    "tags": []
   },
   "outputs": [
    {
     "data": {
      "text/plain": [
       "318"
      ]
     },
     "execution_count": 11,
     "metadata": {},
     "output_type": "execute_result"
    }
   ],
   "source": [
    "len(votes)"
   ]
  },
  {
   "cell_type": "code",
   "execution_count": 12,
   "id": "ad9fcfdc",
   "metadata": {
    "execution": {
     "iopub.execute_input": "2022-12-17T01:50:21.694909Z",
     "iopub.status.busy": "2022-12-17T01:50:21.694469Z",
     "iopub.status.idle": "2022-12-17T01:50:21.700783Z",
     "shell.execute_reply": "2022-12-17T01:50:21.699271Z"
    },
    "id": "-OaGwIXSjiBz",
    "outputId": "0550e188-0b29-47f8-82ac-107ff8aac626",
    "papermill": {
     "duration": 0.026362,
     "end_time": "2022-12-17T01:50:21.703234",
     "exception": false,
     "start_time": "2022-12-17T01:50:21.676872",
     "status": "completed"
    },
    "tags": []
   },
   "outputs": [
    {
     "name": "stdout",
     "output_type": "stream",
     "text": [
      "{'voto': '13', 'quantidade': 1}\n",
      "{'voto': '13', 'quantidade': 1}\n",
      "{'voto': '13', 'quantidade': 1}\n",
      "{'voto': '13', 'quantidade': 1}\n",
      "{'voto': '13', 'quantidade': 1}\n",
      "{'voto': '13', 'quantidade': 1}\n",
      "{'voto': '13', 'quantidade': 1}\n",
      "{'voto': '13', 'quantidade': 1}\n",
      "{'voto': '13', 'quantidade': 1}\n",
      "{'voto': '13', 'quantidade': 1}\n"
     ]
    }
   ],
   "source": [
    "for vote in votes[0:10]:\n",
    "  print(vote)"
   ]
  },
  {
   "cell_type": "markdown",
   "id": "6ceffcf1",
   "metadata": {
    "id": "9Vc1xfxBnpal",
    "papermill": {
     "duration": 0.017129,
     "end_time": "2022-12-17T01:50:21.737293",
     "exception": false,
     "start_time": "2022-12-17T01:50:21.720164",
     "status": "completed"
    },
    "tags": []
   },
   "source": [
    "## 3\\. Processamento"
   ]
  },
  {
   "cell_type": "markdown",
   "id": "6f6c4da8",
   "metadata": {
    "id": "aYgj8tEKn3WV",
    "papermill": {
     "duration": 0.016133,
     "end_time": "2022-12-17T01:50:21.770375",
     "exception": false,
     "start_time": "2022-12-17T01:50:21.754242",
     "status": "completed"
    },
    "tags": []
   },
   "source": [
    "Nesta aula vamos agregar os votos extraídos do arquivo RDV."
   ]
  },
  {
   "cell_type": "code",
   "execution_count": 13,
   "id": "618f1244",
   "metadata": {
    "execution": {
     "iopub.execute_input": "2022-12-17T01:50:21.805215Z",
     "iopub.status.busy": "2022-12-17T01:50:21.804772Z",
     "iopub.status.idle": "2022-12-17T01:50:21.810464Z",
     "shell.execute_reply": "2022-12-17T01:50:21.809340Z"
    },
    "id": "yvrLD_U8n4mh",
    "outputId": "b91a58a2-0796-4d77-f279-21ce2bc43998",
    "papermill": {
     "duration": 0.026365,
     "end_time": "2022-12-17T01:50:21.813047",
     "exception": false,
     "start_time": "2022-12-17T01:50:21.786682",
     "status": "completed"
    },
    "tags": []
   },
   "outputs": [
    {
     "name": "stdout",
     "output_type": "stream",
     "text": [
      "{'voto': '13', 'quantidade': 1}\n",
      "{'voto': '13', 'quantidade': 1}\n",
      "{'voto': '13', 'quantidade': 1}\n",
      "{'voto': '13', 'quantidade': 1}\n",
      "{'voto': '13', 'quantidade': 1}\n",
      "{'voto': '13', 'quantidade': 1}\n",
      "{'voto': '13', 'quantidade': 1}\n",
      "{'voto': '13', 'quantidade': 1}\n",
      "{'voto': '13', 'quantidade': 1}\n",
      "{'voto': '13', 'quantidade': 1}\n"
     ]
    }
   ],
   "source": [
    "for vote in votes[0:10]:\n",
    "  print(vote)"
   ]
  },
  {
   "cell_type": "markdown",
   "id": "f4950792",
   "metadata": {
    "id": "1FqEmBSNnj5v",
    "papermill": {
     "duration": 0.016104,
     "end_time": "2022-12-17T01:50:21.845638",
     "exception": false,
     "start_time": "2022-12-17T01:50:21.829534",
     "status": "completed"
    },
    "tags": []
   },
   "source": [
    "### **3.1. Pandas**"
   ]
  },
  {
   "cell_type": "markdown",
   "id": "0a75cef0",
   "metadata": {
    "id": "Ci6sgZpOjodO",
    "papermill": {
     "duration": 0.016123,
     "end_time": "2022-12-17T01:50:21.878190",
     "exception": false,
     "start_time": "2022-12-17T01:50:21.862067",
     "status": "completed"
    },
    "tags": []
   },
   "source": [
    "Vamos utilizar o `Pandas`, o pacote **Python** mais utilizado para processamento de dados."
   ]
  },
  {
   "cell_type": "code",
   "execution_count": 14,
   "id": "95eb4c7f",
   "metadata": {
    "execution": {
     "iopub.execute_input": "2022-12-17T01:50:21.913068Z",
     "iopub.status.busy": "2022-12-17T01:50:21.912680Z",
     "iopub.status.idle": "2022-12-17T01:50:21.917307Z",
     "shell.execute_reply": "2022-12-17T01:50:21.916137Z"
    },
    "id": "ATSOc5bNjrgA",
    "papermill": {
     "duration": 0.02502,
     "end_time": "2022-12-17T01:50:21.919572",
     "exception": false,
     "start_time": "2022-12-17T01:50:21.894552",
     "status": "completed"
    },
    "tags": []
   },
   "outputs": [],
   "source": [
    "import pandas as pd"
   ]
  },
  {
   "cell_type": "markdown",
   "id": "41c5d559",
   "metadata": {
    "id": "e3ElPGw0rZ5f",
    "papermill": {
     "duration": 0.016752,
     "end_time": "2022-12-17T01:50:21.953830",
     "exception": false,
     "start_time": "2022-12-17T01:50:21.937078",
     "status": "completed"
    },
    "tags": []
   },
   "source": [
    "### **3.2. DataFrame**"
   ]
  },
  {
   "cell_type": "markdown",
   "id": "37fae145",
   "metadata": {
    "id": "stW_4PNKrhuX",
    "papermill": {
     "duration": 0.016395,
     "end_time": "2022-12-17T01:50:21.986756",
     "exception": false,
     "start_time": "2022-12-17T01:50:21.970361",
     "status": "completed"
    },
    "tags": []
   },
   "source": [
    "A abstração base do `Pandas` é o `DataFrame`, uma estrutura de dados que representa uma tabela de duas dimensões."
   ]
  },
  {
   "cell_type": "code",
   "execution_count": 15,
   "id": "496bb20a",
   "metadata": {
    "execution": {
     "iopub.execute_input": "2022-12-17T01:50:22.022044Z",
     "iopub.status.busy": "2022-12-17T01:50:22.021634Z",
     "iopub.status.idle": "2022-12-17T01:50:22.033712Z",
     "shell.execute_reply": "2022-12-17T01:50:22.032492Z"
    },
    "id": "w_ppM8GSjs8o",
    "papermill": {
     "duration": 0.032986,
     "end_time": "2022-12-17T01:50:22.036227",
     "exception": false,
     "start_time": "2022-12-17T01:50:22.003241",
     "status": "completed"
    },
    "tags": []
   },
   "outputs": [],
   "source": [
    "votes_table = pd.DataFrame(votes)"
   ]
  },
  {
   "cell_type": "code",
   "execution_count": 16,
   "id": "e7fef819",
   "metadata": {
    "execution": {
     "iopub.execute_input": "2022-12-17T01:50:22.072351Z",
     "iopub.status.busy": "2022-12-17T01:50:22.071882Z",
     "iopub.status.idle": "2022-12-17T01:50:22.097163Z",
     "shell.execute_reply": "2022-12-17T01:50:22.096292Z"
    },
    "id": "XrlA5BULjzE5",
    "outputId": "6515f6b0-4218-4ba8-8ba7-4f43e15656b2",
    "papermill": {
     "duration": 0.046683,
     "end_time": "2022-12-17T01:50:22.099506",
     "exception": false,
     "start_time": "2022-12-17T01:50:22.052823",
     "status": "completed"
    },
    "tags": []
   },
   "outputs": [
    {
     "data": {
      "text/html": [
       "<div>\n",
       "<style scoped>\n",
       "    .dataframe tbody tr th:only-of-type {\n",
       "        vertical-align: middle;\n",
       "    }\n",
       "\n",
       "    .dataframe tbody tr th {\n",
       "        vertical-align: top;\n",
       "    }\n",
       "\n",
       "    .dataframe thead th {\n",
       "        text-align: right;\n",
       "    }\n",
       "</style>\n",
       "<table border=\"1\" class=\"dataframe\">\n",
       "  <thead>\n",
       "    <tr style=\"text-align: right;\">\n",
       "      <th></th>\n",
       "      <th>voto</th>\n",
       "      <th>quantidade</th>\n",
       "    </tr>\n",
       "  </thead>\n",
       "  <tbody>\n",
       "    <tr>\n",
       "      <th>288</th>\n",
       "      <td>22</td>\n",
       "      <td>1</td>\n",
       "    </tr>\n",
       "    <tr>\n",
       "      <th>289</th>\n",
       "      <td>22</td>\n",
       "      <td>1</td>\n",
       "    </tr>\n",
       "    <tr>\n",
       "      <th>290</th>\n",
       "      <td>22</td>\n",
       "      <td>1</td>\n",
       "    </tr>\n",
       "    <tr>\n",
       "      <th>291</th>\n",
       "      <td>22</td>\n",
       "      <td>1</td>\n",
       "    </tr>\n",
       "    <tr>\n",
       "      <th>292</th>\n",
       "      <td>22</td>\n",
       "      <td>1</td>\n",
       "    </tr>\n",
       "    <tr>\n",
       "      <th>293</th>\n",
       "      <td>22</td>\n",
       "      <td>1</td>\n",
       "    </tr>\n",
       "    <tr>\n",
       "      <th>294</th>\n",
       "      <td>22</td>\n",
       "      <td>1</td>\n",
       "    </tr>\n",
       "    <tr>\n",
       "      <th>295</th>\n",
       "      <td>22</td>\n",
       "      <td>1</td>\n",
       "    </tr>\n",
       "    <tr>\n",
       "      <th>296</th>\n",
       "      <td>22</td>\n",
       "      <td>1</td>\n",
       "    </tr>\n",
       "    <tr>\n",
       "      <th>297</th>\n",
       "      <td>22</td>\n",
       "      <td>1</td>\n",
       "    </tr>\n",
       "    <tr>\n",
       "      <th>298</th>\n",
       "      <td>22</td>\n",
       "      <td>1</td>\n",
       "    </tr>\n",
       "    <tr>\n",
       "      <th>299</th>\n",
       "      <td>22</td>\n",
       "      <td>1</td>\n",
       "    </tr>\n",
       "    <tr>\n",
       "      <th>300</th>\n",
       "      <td>22</td>\n",
       "      <td>1</td>\n",
       "    </tr>\n",
       "    <tr>\n",
       "      <th>301</th>\n",
       "      <td>22</td>\n",
       "      <td>1</td>\n",
       "    </tr>\n",
       "    <tr>\n",
       "      <th>302</th>\n",
       "      <td>branco</td>\n",
       "      <td>1</td>\n",
       "    </tr>\n",
       "    <tr>\n",
       "      <th>303</th>\n",
       "      <td>branco</td>\n",
       "      <td>1</td>\n",
       "    </tr>\n",
       "    <tr>\n",
       "      <th>304</th>\n",
       "      <td>branco</td>\n",
       "      <td>1</td>\n",
       "    </tr>\n",
       "    <tr>\n",
       "      <th>305</th>\n",
       "      <td>branco</td>\n",
       "      <td>1</td>\n",
       "    </tr>\n",
       "    <tr>\n",
       "      <th>306</th>\n",
       "      <td>branco</td>\n",
       "      <td>1</td>\n",
       "    </tr>\n",
       "    <tr>\n",
       "      <th>307</th>\n",
       "      <td>nulo</td>\n",
       "      <td>1</td>\n",
       "    </tr>\n",
       "    <tr>\n",
       "      <th>308</th>\n",
       "      <td>nulo</td>\n",
       "      <td>1</td>\n",
       "    </tr>\n",
       "    <tr>\n",
       "      <th>309</th>\n",
       "      <td>nulo</td>\n",
       "      <td>1</td>\n",
       "    </tr>\n",
       "    <tr>\n",
       "      <th>310</th>\n",
       "      <td>nulo</td>\n",
       "      <td>1</td>\n",
       "    </tr>\n",
       "    <tr>\n",
       "      <th>311</th>\n",
       "      <td>nulo</td>\n",
       "      <td>1</td>\n",
       "    </tr>\n",
       "    <tr>\n",
       "      <th>312</th>\n",
       "      <td>nulo</td>\n",
       "      <td>1</td>\n",
       "    </tr>\n",
       "    <tr>\n",
       "      <th>313</th>\n",
       "      <td>nulo</td>\n",
       "      <td>1</td>\n",
       "    </tr>\n",
       "    <tr>\n",
       "      <th>314</th>\n",
       "      <td>nulo</td>\n",
       "      <td>1</td>\n",
       "    </tr>\n",
       "    <tr>\n",
       "      <th>315</th>\n",
       "      <td>nulo</td>\n",
       "      <td>1</td>\n",
       "    </tr>\n",
       "    <tr>\n",
       "      <th>316</th>\n",
       "      <td>nulo</td>\n",
       "      <td>1</td>\n",
       "    </tr>\n",
       "    <tr>\n",
       "      <th>317</th>\n",
       "      <td>nulo</td>\n",
       "      <td>1</td>\n",
       "    </tr>\n",
       "  </tbody>\n",
       "</table>\n",
       "</div>"
      ],
      "text/plain": [
       "       voto  quantidade\n",
       "288      22           1\n",
       "289      22           1\n",
       "290      22           1\n",
       "291      22           1\n",
       "292      22           1\n",
       "293      22           1\n",
       "294      22           1\n",
       "295      22           1\n",
       "296      22           1\n",
       "297      22           1\n",
       "298      22           1\n",
       "299      22           1\n",
       "300      22           1\n",
       "301      22           1\n",
       "302  branco           1\n",
       "303  branco           1\n",
       "304  branco           1\n",
       "305  branco           1\n",
       "306  branco           1\n",
       "307    nulo           1\n",
       "308    nulo           1\n",
       "309    nulo           1\n",
       "310    nulo           1\n",
       "311    nulo           1\n",
       "312    nulo           1\n",
       "313    nulo           1\n",
       "314    nulo           1\n",
       "315    nulo           1\n",
       "316    nulo           1\n",
       "317    nulo           1"
      ]
     },
     "execution_count": 16,
     "metadata": {},
     "output_type": "execute_result"
    }
   ],
   "source": [
    "votes_table.tail(n=30)"
   ]
  },
  {
   "cell_type": "code",
   "execution_count": 17,
   "id": "76431da3",
   "metadata": {
    "execution": {
     "iopub.execute_input": "2022-12-17T01:50:22.137508Z",
     "iopub.status.busy": "2022-12-17T01:50:22.137063Z",
     "iopub.status.idle": "2022-12-17T01:50:22.144016Z",
     "shell.execute_reply": "2022-12-17T01:50:22.142810Z"
    },
    "id": "7Swsri4Nj3F2",
    "outputId": "b071ed2e-de20-4745-b8f9-66aba315368d",
    "papermill": {
     "duration": 0.028781,
     "end_time": "2022-12-17T01:50:22.146758",
     "exception": false,
     "start_time": "2022-12-17T01:50:22.117977",
     "status": "completed"
    },
    "tags": []
   },
   "outputs": [
    {
     "data": {
      "text/plain": [
       "(318, 2)"
      ]
     },
     "execution_count": 17,
     "metadata": {},
     "output_type": "execute_result"
    }
   ],
   "source": [
    "votes_table.shape"
   ]
  },
  {
   "cell_type": "code",
   "execution_count": 18,
   "id": "39a10ca9",
   "metadata": {
    "execution": {
     "iopub.execute_input": "2022-12-17T01:50:22.184443Z",
     "iopub.status.busy": "2022-12-17T01:50:22.183972Z",
     "iopub.status.idle": "2022-12-17T01:50:22.193876Z",
     "shell.execute_reply": "2022-12-17T01:50:22.192798Z"
    },
    "id": "2qCTPCUBtdH1",
    "papermill": {
     "duration": 0.032186,
     "end_time": "2022-12-17T01:50:22.197039",
     "exception": false,
     "start_time": "2022-12-17T01:50:22.164853",
     "status": "completed"
    },
    "tags": []
   },
   "outputs": [],
   "source": [
    "votes_table.to_csv(\"rdv.csv\", header=True, index=False)"
   ]
  },
  {
   "cell_type": "markdown",
   "id": "23dc8010",
   "metadata": {
    "id": "6poQ6YN7riqu",
    "papermill": {
     "duration": 0.016651,
     "end_time": "2022-12-17T01:50:22.231014",
     "exception": false,
     "start_time": "2022-12-17T01:50:22.214363",
     "status": "completed"
    },
    "tags": []
   },
   "source": [
    "### **3.3. Agregação**"
   ]
  },
  {
   "cell_type": "markdown",
   "id": "bac66950",
   "metadata": {
    "id": "ARISjCaFkQZX",
    "papermill": {
     "duration": 0.016962,
     "end_time": "2022-12-17T01:50:22.264925",
     "exception": false,
     "start_time": "2022-12-17T01:50:22.247963",
     "status": "completed"
    },
    "tags": []
   },
   "source": [
    "Nesta etapa vamos agregagar os votos com uma operação matemática de soma."
   ]
  },
  {
   "cell_type": "code",
   "execution_count": 19,
   "id": "cffbec72",
   "metadata": {
    "execution": {
     "iopub.execute_input": "2022-12-17T01:50:22.300394Z",
     "iopub.status.busy": "2022-12-17T01:50:22.299962Z",
     "iopub.status.idle": "2022-12-17T01:50:22.320922Z",
     "shell.execute_reply": "2022-12-17T01:50:22.319705Z"
    },
    "id": "gkEJzWmdj72o",
    "papermill": {
     "duration": 0.042229,
     "end_time": "2022-12-17T01:50:22.324019",
     "exception": false,
     "start_time": "2022-12-17T01:50:22.281790",
     "status": "completed"
    },
    "tags": []
   },
   "outputs": [],
   "source": [
    "votes_table_agg = votes_table.groupby('voto').agg('sum').reset_index()"
   ]
  },
  {
   "cell_type": "code",
   "execution_count": 20,
   "id": "52fc2037",
   "metadata": {
    "execution": {
     "iopub.execute_input": "2022-12-17T01:50:22.360462Z",
     "iopub.status.busy": "2022-12-17T01:50:22.359999Z",
     "iopub.status.idle": "2022-12-17T01:50:22.370378Z",
     "shell.execute_reply": "2022-12-17T01:50:22.369185Z"
    },
    "id": "dzeCL1gtkK2H",
    "outputId": "8ce40c71-4f14-436a-e3eb-97cfdd5c4715",
    "papermill": {
     "duration": 0.031246,
     "end_time": "2022-12-17T01:50:22.372718",
     "exception": false,
     "start_time": "2022-12-17T01:50:22.341472",
     "status": "completed"
    },
    "tags": []
   },
   "outputs": [
    {
     "data": {
      "text/html": [
       "<div>\n",
       "<style scoped>\n",
       "    .dataframe tbody tr th:only-of-type {\n",
       "        vertical-align: middle;\n",
       "    }\n",
       "\n",
       "    .dataframe tbody tr th {\n",
       "        vertical-align: top;\n",
       "    }\n",
       "\n",
       "    .dataframe thead th {\n",
       "        text-align: right;\n",
       "    }\n",
       "</style>\n",
       "<table border=\"1\" class=\"dataframe\">\n",
       "  <thead>\n",
       "    <tr style=\"text-align: right;\">\n",
       "      <th></th>\n",
       "      <th>voto</th>\n",
       "      <th>quantidade</th>\n",
       "    </tr>\n",
       "  </thead>\n",
       "  <tbody>\n",
       "    <tr>\n",
       "      <th>0</th>\n",
       "      <td>13</td>\n",
       "      <td>186</td>\n",
       "    </tr>\n",
       "    <tr>\n",
       "      <th>1</th>\n",
       "      <td>22</td>\n",
       "      <td>116</td>\n",
       "    </tr>\n",
       "    <tr>\n",
       "      <th>2</th>\n",
       "      <td>branco</td>\n",
       "      <td>5</td>\n",
       "    </tr>\n",
       "    <tr>\n",
       "      <th>3</th>\n",
       "      <td>nulo</td>\n",
       "      <td>11</td>\n",
       "    </tr>\n",
       "  </tbody>\n",
       "</table>\n",
       "</div>"
      ],
      "text/plain": [
       "     voto  quantidade\n",
       "0      13         186\n",
       "1      22         116\n",
       "2  branco           5\n",
       "3    nulo          11"
      ]
     },
     "execution_count": 20,
     "metadata": {},
     "output_type": "execute_result"
    }
   ],
   "source": [
    "votes_table_agg"
   ]
  },
  {
   "cell_type": "markdown",
   "id": "65d9e81f",
   "metadata": {
    "id": "KCWacJbzkSc_",
    "papermill": {
     "duration": 0.016849,
     "end_time": "2022-12-17T01:50:22.407072",
     "exception": false,
     "start_time": "2022-12-17T01:50:22.390223",
     "status": "completed"
    },
    "tags": []
   },
   "source": [
    "Nesta etapa vamos ordenar os dados agregados de forma decrescente, ou seja, da maior quantidade de votos para a menor."
   ]
  },
  {
   "cell_type": "code",
   "execution_count": 21,
   "id": "f4b15e25",
   "metadata": {
    "execution": {
     "iopub.execute_input": "2022-12-17T01:50:22.443081Z",
     "iopub.status.busy": "2022-12-17T01:50:22.442626Z",
     "iopub.status.idle": "2022-12-17T01:50:22.448688Z",
     "shell.execute_reply": "2022-12-17T01:50:22.447640Z"
    },
    "id": "J9t3nD4ukTQC",
    "papermill": {
     "duration": 0.026909,
     "end_time": "2022-12-17T01:50:22.451049",
     "exception": false,
     "start_time": "2022-12-17T01:50:22.424140",
     "status": "completed"
    },
    "tags": []
   },
   "outputs": [],
   "source": [
    "votes_table_agg = votes_table_agg.sort_values(by='quantidade', ascending=False)"
   ]
  },
  {
   "cell_type": "code",
   "execution_count": 22,
   "id": "d6780813",
   "metadata": {
    "execution": {
     "iopub.execute_input": "2022-12-17T01:50:22.487435Z",
     "iopub.status.busy": "2022-12-17T01:50:22.487015Z",
     "iopub.status.idle": "2022-12-17T01:50:22.497637Z",
     "shell.execute_reply": "2022-12-17T01:50:22.496228Z"
    },
    "id": "mC7IT5eckdDI",
    "outputId": "369f073d-b0ee-42fa-ccff-21ee1b394812",
    "papermill": {
     "duration": 0.031212,
     "end_time": "2022-12-17T01:50:22.499892",
     "exception": false,
     "start_time": "2022-12-17T01:50:22.468680",
     "status": "completed"
    },
    "tags": []
   },
   "outputs": [
    {
     "data": {
      "text/html": [
       "<div>\n",
       "<style scoped>\n",
       "    .dataframe tbody tr th:only-of-type {\n",
       "        vertical-align: middle;\n",
       "    }\n",
       "\n",
       "    .dataframe tbody tr th {\n",
       "        vertical-align: top;\n",
       "    }\n",
       "\n",
       "    .dataframe thead th {\n",
       "        text-align: right;\n",
       "    }\n",
       "</style>\n",
       "<table border=\"1\" class=\"dataframe\">\n",
       "  <thead>\n",
       "    <tr style=\"text-align: right;\">\n",
       "      <th></th>\n",
       "      <th>voto</th>\n",
       "      <th>quantidade</th>\n",
       "    </tr>\n",
       "  </thead>\n",
       "  <tbody>\n",
       "    <tr>\n",
       "      <th>0</th>\n",
       "      <td>13</td>\n",
       "      <td>186</td>\n",
       "    </tr>\n",
       "    <tr>\n",
       "      <th>1</th>\n",
       "      <td>22</td>\n",
       "      <td>116</td>\n",
       "    </tr>\n",
       "    <tr>\n",
       "      <th>3</th>\n",
       "      <td>nulo</td>\n",
       "      <td>11</td>\n",
       "    </tr>\n",
       "    <tr>\n",
       "      <th>2</th>\n",
       "      <td>branco</td>\n",
       "      <td>5</td>\n",
       "    </tr>\n",
       "  </tbody>\n",
       "</table>\n",
       "</div>"
      ],
      "text/plain": [
       "     voto  quantidade\n",
       "0      13         186\n",
       "1      22         116\n",
       "3    nulo          11\n",
       "2  branco           5"
      ]
     },
     "execution_count": 22,
     "metadata": {},
     "output_type": "execute_result"
    }
   ],
   "source": [
    "votes_table_agg"
   ]
  },
  {
   "cell_type": "markdown",
   "id": "ad7ac56f",
   "metadata": {
    "id": "MZ6CzHPTkg7X",
    "papermill": {
     "duration": 0.017169,
     "end_time": "2022-12-17T01:50:22.535044",
     "exception": false,
     "start_time": "2022-12-17T01:50:22.517875",
     "status": "completed"
    },
    "tags": []
   },
   "source": [
    "Nesta etapa vamos adicionar uma coluna com os valores relativos percentuais da agregação dos dados."
   ]
  },
  {
   "cell_type": "code",
   "execution_count": 23,
   "id": "32af086f",
   "metadata": {
    "execution": {
     "iopub.execute_input": "2022-12-17T01:50:22.571338Z",
     "iopub.status.busy": "2022-12-17T01:50:22.570892Z",
     "iopub.status.idle": "2022-12-17T01:50:22.577923Z",
     "shell.execute_reply": "2022-12-17T01:50:22.576950Z"
    },
    "id": "MgSv8oWKkiH2",
    "papermill": {
     "duration": 0.027806,
     "end_time": "2022-12-17T01:50:22.580161",
     "exception": false,
     "start_time": "2022-12-17T01:50:22.552355",
     "status": "completed"
    },
    "tags": []
   },
   "outputs": [],
   "source": [
    "votes_table_agg['quantidade_pct'] = round(100 * (votes_table_agg['quantidade'] / votes_table_agg['quantidade'].sum()), 2)"
   ]
  },
  {
   "cell_type": "code",
   "execution_count": 24,
   "id": "ae84d6b5",
   "metadata": {
    "execution": {
     "iopub.execute_input": "2022-12-17T01:50:22.616550Z",
     "iopub.status.busy": "2022-12-17T01:50:22.616049Z",
     "iopub.status.idle": "2022-12-17T01:50:22.628456Z",
     "shell.execute_reply": "2022-12-17T01:50:22.627062Z"
    },
    "id": "lRxc6x1mlIGf",
    "outputId": "c8268eb0-3504-425b-c904-290b2579d625",
    "papermill": {
     "duration": 0.033692,
     "end_time": "2022-12-17T01:50:22.631317",
     "exception": false,
     "start_time": "2022-12-17T01:50:22.597625",
     "status": "completed"
    },
    "tags": []
   },
   "outputs": [
    {
     "data": {
      "text/html": [
       "<div>\n",
       "<style scoped>\n",
       "    .dataframe tbody tr th:only-of-type {\n",
       "        vertical-align: middle;\n",
       "    }\n",
       "\n",
       "    .dataframe tbody tr th {\n",
       "        vertical-align: top;\n",
       "    }\n",
       "\n",
       "    .dataframe thead th {\n",
       "        text-align: right;\n",
       "    }\n",
       "</style>\n",
       "<table border=\"1\" class=\"dataframe\">\n",
       "  <thead>\n",
       "    <tr style=\"text-align: right;\">\n",
       "      <th></th>\n",
       "      <th>voto</th>\n",
       "      <th>quantidade</th>\n",
       "      <th>quantidade_pct</th>\n",
       "    </tr>\n",
       "  </thead>\n",
       "  <tbody>\n",
       "    <tr>\n",
       "      <th>0</th>\n",
       "      <td>13</td>\n",
       "      <td>186</td>\n",
       "      <td>58.49</td>\n",
       "    </tr>\n",
       "    <tr>\n",
       "      <th>1</th>\n",
       "      <td>22</td>\n",
       "      <td>116</td>\n",
       "      <td>36.48</td>\n",
       "    </tr>\n",
       "    <tr>\n",
       "      <th>3</th>\n",
       "      <td>nulo</td>\n",
       "      <td>11</td>\n",
       "      <td>3.46</td>\n",
       "    </tr>\n",
       "    <tr>\n",
       "      <th>2</th>\n",
       "      <td>branco</td>\n",
       "      <td>5</td>\n",
       "      <td>1.57</td>\n",
       "    </tr>\n",
       "  </tbody>\n",
       "</table>\n",
       "</div>"
      ],
      "text/plain": [
       "     voto  quantidade  quantidade_pct\n",
       "0      13         186           58.49\n",
       "1      22         116           36.48\n",
       "3    nulo          11            3.46\n",
       "2  branco           5            1.57"
      ]
     },
     "execution_count": 24,
     "metadata": {},
     "output_type": "execute_result"
    }
   ],
   "source": [
    "votes_table_agg"
   ]
  },
  {
   "cell_type": "markdown",
   "id": "159bcbad",
   "metadata": {
    "id": "Yn0ButilmZOV",
    "papermill": {
     "duration": 0.017191,
     "end_time": "2022-12-17T01:50:22.666566",
     "exception": false,
     "start_time": "2022-12-17T01:50:22.649375",
     "status": "completed"
    },
    "tags": []
   },
   "source": [
    "## 4\\. Visualização"
   ]
  },
  {
   "cell_type": "markdown",
   "id": "4527a818",
   "metadata": {
    "id": "8ZmzZGzzlLJy",
    "papermill": {
     "duration": 0.017328,
     "end_time": "2022-12-17T01:50:22.701388",
     "exception": false,
     "start_time": "2022-12-17T01:50:22.684060",
     "status": "completed"
    },
    "tags": []
   },
   "source": [
    "Nesta aula vamos visualizar os dados agregados."
   ]
  },
  {
   "cell_type": "code",
   "execution_count": 25,
   "id": "110aeb54",
   "metadata": {
    "execution": {
     "iopub.execute_input": "2022-12-17T01:50:22.739128Z",
     "iopub.status.busy": "2022-12-17T01:50:22.738726Z",
     "iopub.status.idle": "2022-12-17T01:50:22.750731Z",
     "shell.execute_reply": "2022-12-17T01:50:22.749374Z"
    },
    "id": "upkG1XXUn9aw",
    "outputId": "97532f74-f447-4264-8b05-72016c9c4194",
    "papermill": {
     "duration": 0.034499,
     "end_time": "2022-12-17T01:50:22.753271",
     "exception": false,
     "start_time": "2022-12-17T01:50:22.718772",
     "status": "completed"
    },
    "tags": []
   },
   "outputs": [
    {
     "data": {
      "text/html": [
       "<div>\n",
       "<style scoped>\n",
       "    .dataframe tbody tr th:only-of-type {\n",
       "        vertical-align: middle;\n",
       "    }\n",
       "\n",
       "    .dataframe tbody tr th {\n",
       "        vertical-align: top;\n",
       "    }\n",
       "\n",
       "    .dataframe thead th {\n",
       "        text-align: right;\n",
       "    }\n",
       "</style>\n",
       "<table border=\"1\" class=\"dataframe\">\n",
       "  <thead>\n",
       "    <tr style=\"text-align: right;\">\n",
       "      <th></th>\n",
       "      <th>voto</th>\n",
       "      <th>quantidade</th>\n",
       "      <th>quantidade_pct</th>\n",
       "    </tr>\n",
       "  </thead>\n",
       "  <tbody>\n",
       "    <tr>\n",
       "      <th>0</th>\n",
       "      <td>13</td>\n",
       "      <td>186</td>\n",
       "      <td>58.49</td>\n",
       "    </tr>\n",
       "    <tr>\n",
       "      <th>1</th>\n",
       "      <td>22</td>\n",
       "      <td>116</td>\n",
       "      <td>36.48</td>\n",
       "    </tr>\n",
       "    <tr>\n",
       "      <th>3</th>\n",
       "      <td>nulo</td>\n",
       "      <td>11</td>\n",
       "      <td>3.46</td>\n",
       "    </tr>\n",
       "    <tr>\n",
       "      <th>2</th>\n",
       "      <td>branco</td>\n",
       "      <td>5</td>\n",
       "      <td>1.57</td>\n",
       "    </tr>\n",
       "  </tbody>\n",
       "</table>\n",
       "</div>"
      ],
      "text/plain": [
       "     voto  quantidade  quantidade_pct\n",
       "0      13         186           58.49\n",
       "1      22         116           36.48\n",
       "3    nulo          11            3.46\n",
       "2  branco           5            1.57"
      ]
     },
     "execution_count": 25,
     "metadata": {},
     "output_type": "execute_result"
    }
   ],
   "source": [
    "votes_table_agg"
   ]
  },
  {
   "cell_type": "markdown",
   "id": "55b11d35",
   "metadata": {
    "id": "jomWZQ4wnYh7",
    "papermill": {
     "duration": 0.018117,
     "end_time": "2022-12-17T01:50:22.791095",
     "exception": false,
     "start_time": "2022-12-17T01:50:22.772978",
     "status": "completed"
    },
    "tags": []
   },
   "source": [
    "### **4.1. Seaborn**"
   ]
  },
  {
   "cell_type": "markdown",
   "id": "f7a563ad",
   "metadata": {
    "id": "cggXsefznzxn",
    "papermill": {
     "duration": 0.017543,
     "end_time": "2022-12-17T01:50:22.826308",
     "exception": false,
     "start_time": "2022-12-17T01:50:22.808765",
     "status": "completed"
    },
    "tags": []
   },
   "source": [
    "Vamos utilizar o `Seaborn`, um dos pacotes **Python** mais utilizado para visualização de dados."
   ]
  },
  {
   "cell_type": "code",
   "execution_count": 26,
   "id": "eb2731dd",
   "metadata": {
    "execution": {
     "iopub.execute_input": "2022-12-17T01:50:22.865525Z",
     "iopub.status.busy": "2022-12-17T01:50:22.864399Z",
     "iopub.status.idle": "2022-12-17T01:50:24.054381Z",
     "shell.execute_reply": "2022-12-17T01:50:24.053248Z"
    },
    "id": "pKTiZEq-lL-q",
    "papermill": {
     "duration": 1.212111,
     "end_time": "2022-12-17T01:50:24.057426",
     "exception": false,
     "start_time": "2022-12-17T01:50:22.845315",
     "status": "completed"
    },
    "tags": []
   },
   "outputs": [],
   "source": [
    "import seaborn as sns"
   ]
  },
  {
   "cell_type": "code",
   "execution_count": 27,
   "id": "5f3e397b",
   "metadata": {
    "execution": {
     "iopub.execute_input": "2022-12-17T01:50:24.094865Z",
     "iopub.status.busy": "2022-12-17T01:50:24.094459Z",
     "iopub.status.idle": "2022-12-17T01:50:24.099661Z",
     "shell.execute_reply": "2022-12-17T01:50:24.098339Z"
    },
    "id": "PTMFZ1jjmkew",
    "papermill": {
     "duration": 0.026419,
     "end_time": "2022-12-17T01:50:24.101805",
     "exception": false,
     "start_time": "2022-12-17T01:50:24.075386",
     "status": "completed"
    },
    "tags": []
   },
   "outputs": [],
   "source": [
    "URNA = \"São Paulo/SP - Zona 0328 - Seção 0758\""
   ]
  },
  {
   "cell_type": "markdown",
   "id": "ade37d84",
   "metadata": {
    "id": "qCcZEvdIp3qX",
    "papermill": {
     "duration": 0.018026,
     "end_time": "2022-12-17T01:50:24.137839",
     "exception": false,
     "start_time": "2022-12-17T01:50:24.119813",
     "status": "completed"
    },
    "tags": []
   },
   "source": [
    "Nesta primeira visualização, vamos observar a **quantidade de votos absolutos**."
   ]
  },
  {
   "cell_type": "code",
   "execution_count": 28,
   "id": "f48e380a",
   "metadata": {
    "execution": {
     "iopub.execute_input": "2022-12-17T01:50:24.177260Z",
     "iopub.status.busy": "2022-12-17T01:50:24.176494Z",
     "iopub.status.idle": "2022-12-17T01:50:24.181140Z",
     "shell.execute_reply": "2022-12-17T01:50:24.179970Z"
    },
    "id": "1NndRl7Bq3yN",
    "papermill": {
     "duration": 0.028154,
     "end_time": "2022-12-17T01:50:24.183741",
     "exception": false,
     "start_time": "2022-12-17T01:50:24.155587",
     "status": "completed"
    },
    "tags": []
   },
   "outputs": [],
   "source": [
    "x_column = 'voto'\n",
    "y_column = 'quantidade'"
   ]
  },
  {
   "cell_type": "code",
   "execution_count": 29,
   "id": "71ea5010",
   "metadata": {
    "execution": {
     "iopub.execute_input": "2022-12-17T01:50:24.222686Z",
     "iopub.status.busy": "2022-12-17T01:50:24.221300Z",
     "iopub.status.idle": "2022-12-17T01:50:24.227662Z",
     "shell.execute_reply": "2022-12-17T01:50:24.226393Z"
    },
    "id": "4PHyn-SAq3yO",
    "papermill": {
     "duration": 0.02851,
     "end_time": "2022-12-17T01:50:24.230119",
     "exception": false,
     "start_time": "2022-12-17T01:50:24.201609",
     "status": "completed"
    },
    "tags": []
   },
   "outputs": [],
   "source": [
    "title = f'Apuração Presidente - Segundo turno de 2022 - Urna {URNA}'\n",
    "x_lable = 'Voto'\n",
    "y_lable = 'Quantidade'"
   ]
  },
  {
   "cell_type": "code",
   "execution_count": 30,
   "id": "30610d9e",
   "metadata": {
    "execution": {
     "iopub.execute_input": "2022-12-17T01:50:24.267152Z",
     "iopub.status.busy": "2022-12-17T01:50:24.266733Z",
     "iopub.status.idle": "2022-12-17T01:50:24.558589Z",
     "shell.execute_reply": "2022-12-17T01:50:24.557311Z"
    },
    "id": "1FkWOYQ0lWIi",
    "outputId": "b1de62ee-28b6-4e80-d331-7289728ace93",
    "papermill": {
     "duration": 0.3133,
     "end_time": "2022-12-17T01:50:24.561063",
     "exception": false,
     "start_time": "2022-12-17T01:50:24.247763",
     "status": "completed"
    },
    "tags": []
   },
   "outputs": [
    {
     "data": {
      "image/png": "[encoded data removed]",
      "text/plain": [
       "<Figure size 432x288 with 1 Axes>"
      ]
     },
     "metadata": {},
     "output_type": "display_data"
    }
   ],
   "source": [
    "with sns.axes_style('whitegrid'):\n",
    "  chart = sns.barplot(data=votes_table_agg, x=x_column, y=y_column)\n",
    "  chart.set(title=title, xlabel=x_lable, ylabel=y_lable);"
   ]
  },
  {
   "cell_type": "markdown",
   "id": "4b9feba2",
   "metadata": {
    "id": "C8SJN63Qp5FC",
    "papermill": {
     "duration": 0.018012,
     "end_time": "2022-12-17T01:50:24.598007",
     "exception": false,
     "start_time": "2022-12-17T01:50:24.579995",
     "status": "completed"
    },
    "tags": []
   },
   "source": [
    "Nesta segunda visualização, vamos observar a **quantidade de votos relativos**."
   ]
  },
  {
   "cell_type": "code",
   "execution_count": 31,
   "id": "f70ff681",
   "metadata": {
    "execution": {
     "iopub.execute_input": "2022-12-17T01:50:24.636664Z",
     "iopub.status.busy": "2022-12-17T01:50:24.636237Z",
     "iopub.status.idle": "2022-12-17T01:50:24.641946Z",
     "shell.execute_reply": "2022-12-17T01:50:24.640607Z"
    },
    "id": "iOXiDL_UqtnQ",
    "papermill": {
     "duration": 0.028546,
     "end_time": "2022-12-17T01:50:24.644643",
     "exception": false,
     "start_time": "2022-12-17T01:50:24.616097",
     "status": "completed"
    },
    "tags": []
   },
   "outputs": [],
   "source": [
    "x_column = 'voto'\n",
    "y_column = 'quantidade_pct'"
   ]
  },
  {
   "cell_type": "code",
   "execution_count": 32,
   "id": "708b149f",
   "metadata": {
    "execution": {
     "iopub.execute_input": "2022-12-17T01:50:24.686169Z",
     "iopub.status.busy": "2022-12-17T01:50:24.685068Z",
     "iopub.status.idle": "2022-12-17T01:50:24.692408Z",
     "shell.execute_reply": "2022-12-17T01:50:24.691379Z"
    },
    "id": "aMy65iinqEHJ",
    "papermill": {
     "duration": 0.030048,
     "end_time": "2022-12-17T01:50:24.694946",
     "exception": false,
     "start_time": "2022-12-17T01:50:24.664898",
     "status": "completed"
    },
    "tags": []
   },
   "outputs": [],
   "source": [
    "title = f'Apuração Presidente - Segundo turno de 2022 - Urna {URNA}'\n",
    "x_lable = 'Voto'\n",
    "y_lable = 'Quantidade (%)'"
   ]
  },
  {
   "cell_type": "code",
   "execution_count": 33,
   "id": "b0298727",
   "metadata": {
    "execution": {
     "iopub.execute_input": "2022-12-17T01:50:24.734002Z",
     "iopub.status.busy": "2022-12-17T01:50:24.732579Z",
     "iopub.status.idle": "2022-12-17T01:50:24.980844Z",
     "shell.execute_reply": "2022-12-17T01:50:24.979907Z"
    },
    "id": "2421F39nmDy4",
    "outputId": "0669bd38-72a9-47e1-81f2-0538dcb561fa",
    "papermill": {
     "duration": 0.270134,
     "end_time": "2022-12-17T01:50:24.983154",
     "exception": false,
     "start_time": "2022-12-17T01:50:24.713020",
     "status": "completed"
    },
    "tags": []
   },
   "outputs": [
    {
     "data": {
      "image/png": "[encoded data removed]",
      "text/plain": [
       "<Figure size 432x288 with 1 Axes>"
      ]
     },
     "metadata": {},
     "output_type": "display_data"
    }
   ],
   "source": [
    "with sns.axes_style('whitegrid'):\n",
    "  chart = sns.barplot(data=votes_table_agg, x=x_column, y=y_column)\n",
    "  chart.set(title=title, xlabel=x_lable, ylabel=y_lable);"
   ]
  },
  {
   "cell_type": "markdown",
   "id": "366f695e",
   "metadata": {
    "id": "6k-4cGE8mvep",
    "papermill": {
     "duration": 0.018164,
     "end_time": "2022-12-17T01:50:25.019697",
     "exception": false,
     "start_time": "2022-12-17T01:50:25.001533",
     "status": "completed"
    },
    "tags": []
   },
   "source": [
    "## 5\\. Divulgação"
   ]
  },
  {
   "cell_type": "markdown",
   "id": "4937aefc",
   "metadata": {
    "id": "k_JoHgsBnVFX",
    "papermill": {
     "duration": 0.018049,
     "end_time": "2022-12-17T01:50:25.056452",
     "exception": false,
     "start_time": "2022-12-17T01:50:25.038403",
     "status": "completed"
    },
    "tags": []
   },
   "source": [
    "Nesta aula vamos aprender a expor o nossa análise de dados."
   ]
  },
  {
   "cell_type": "markdown",
   "id": "5291448f",
   "metadata": {
    "id": "s9IZBReZnNAi",
    "papermill": {
     "duration": 0.018161,
     "end_time": "2022-12-17T01:50:25.093050",
     "exception": false,
     "start_time": "2022-12-17T01:50:25.074889",
     "status": "completed"
    },
    "tags": []
   },
   "source": [
    "### **5.1. Kaggle**"
   ]
  },
  {
   "cell_type": "markdown",
   "id": "3fc65f31",
   "metadata": {
    "id": "xnsoZc_wI0sl",
    "papermill": {
     "duration": 0.018183,
     "end_time": "2022-12-17T01:50:25.129489",
     "exception": false,
     "start_time": "2022-12-17T01:50:25.111306",
     "status": "completed"
    },
    "tags": []
   },
   "source": [
    "[Kaggle](https://www.kaggle.com/) é a maior comunidade online de ciência de dados e aprendizado de máquina. A plataforma permite que usuários encontrem e publiquem **conjuntos de dados**, construam e compartilhem **notebooks** (como este do Google Colab) e participem de **competições** (que pagam muito dinheiro as vezes). "
   ]
  },
  {
   "cell_type": "markdown",
   "id": "171bc52b",
   "metadata": {
    "id": "7BqRKqRGJ0i2",
    "papermill": {
     "duration": 0.01841,
     "end_time": "2022-12-17T01:50:25.166902",
     "exception": false,
     "start_time": "2022-12-17T01:50:25.148492",
     "status": "completed"
    },
    "tags": []
   },
   "source": [
    "> Vamos publicar nosso **notebook** na plataforma web do Kaggle para que você possa compartilhar tudo o que você aprendeu nestas aulas e compor o seu portfólio."
   ]
  },
  {
   "cell_type": "markdown",
   "id": "cb02ee6b",
   "metadata": {
    "id": "X0YmFIsjEjRK",
    "papermill": {
     "duration": 0.018107,
     "end_time": "2022-12-17T01:50:25.203581",
     "exception": false,
     "start_time": "2022-12-17T01:50:25.185474",
     "status": "completed"
    },
    "tags": []
   },
   "source": [
    " - Crie uma conta no Kaggle;\n",
    " - Faça o *download* do *notebook* do Google Colab;\n",
    " - Faça o *upload* do *notebook* no Kaggle."
   ]
  }
 ],
 "metadata": {
  "kernelspec": {
   "display_name": "Python 3",
   "language": "python",
   "name": "python3"
  },
  "language_info": {
   "codemirror_mode": {
    "name": "ipython",
    "version": 3
   },
   "file_extension": ".py",
   "mimetype": "text/x-python",
   "name": "python",
   "nbconvert_exporter": "python",
   "pygments_lexer": "ipython3",
   "version": "3.7.12"
  },
  "papermill": {
   "default_parameters": {},
   "duration": 31.560852,
   "end_time": "2022-12-17T01:50:26.046599",
   "environment_variables": {},
   "exception": null,
   "input_path": "__notebook__.ipynb",
   "output_path": "__notebook__.ipynb",
   "parameters": {},
   "start_time": "2022-12-17T01:49:54.485747",
   "version": "2.3.4"
  }
 },
 "nbformat": 4,
 "nbformat_minor": 5
}
